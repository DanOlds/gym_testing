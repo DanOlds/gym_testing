{
 "cells": [
  {
   "cell_type": "code",
   "execution_count": 1,
   "metadata": {},
   "outputs": [],
   "source": [
    "import gym\n",
    "from gym import spaces\n",
    "from gym.utils import seeding\n",
    "import numpy as np\n",
    "import matplotlib.pyplot as plt\n",
    "\n",
    "def sigmoid(x,c=0,w=1):\n",
    "    return 1.0/(1.0+np.exp(-(x-c)/w))\n",
    "\n",
    "def d1_sigmoid(x,c=0,w=1):\n",
    "    return (1.0/w)*sigmoid(x,c,w)*(1.0-sigmoid(x,c,w))\n",
    "\n",
    "class Change1(gym.Env):\n",
    "    \"\"\"Model Change environment\n",
    "    This game presents moves along a linear chain of states, \n",
    "    where each action is the number of states to take (from 1 to 10),\n",
    "    which moves along the chain.  The state will be returned as both the \n",
    "    current integer-index, and the value of a scaler from 0 to 1.  This\n",
    "    scaler will vary according to a sigmoid function, defined at the time of \n",
    "    enviornment instantiation (define width and center position).\n",
    "    \n",
    "    The reward from each point will be the derivative of this sigmoid function,\n",
    "    offset and rescaled by certain criteria passed to the env at creation.\n",
    "    \n",
    "    The goal is thus to take large jumps along the path when nothing is changing,\n",
    "    and small steps when changing dramatically.  The game completes when a move \n",
    "    takes the state beyond end endpoint.\n",
    "\n",
    "    The observed state is the current state in the chain (0 to n-1) and value of scaler.\n",
    "    \"\"\"    \n",
    "    def __init__(self, L=500, c=300, w = 10, sinkscore = 0.2, power=.50, lookback=4):\n",
    "        self.L = L\n",
    "        self.c = c  # center of sigmoid\n",
    "        self.w = w  # width of sigmoid\n",
    "        self.power = power\n",
    "        self.sinkscore = sinkscore #fraction to drop score floor\n",
    "        self.lookback = lookback #how many previous entries to remember\n",
    "        \n",
    "        self.action_space = spaces.Discrete(10) #assume we can take steps 1 to 10\n",
    "\n",
    "        #setup observation_space\n",
    "        high = np.array((self.lookback+1)*[\n",
    "            int(self.L),\n",
    "            np.finfo(np.float32).max])\n",
    "        low = np.array((self.lookback+1)*[\n",
    "            int(0),\n",
    "            -1.0*np.finfo(np.float32).max])\n",
    "            \n",
    "        self.observation_space = spaces.Box(low, high, dtype=np.float32)\n",
    "        ##############\n",
    "\n",
    "        self.seed()\n",
    "        \n",
    "        \n",
    "\n",
    "        #setup value-map\n",
    "        #self.x = np.arange(0,self.L,dtype=int)\n",
    "        #self.value_map = sigmoid(self.x,c=self.c,w=self.w)\n",
    "        #setup score-map\n",
    "        #self.score_map =d1_sigmoid(self.x,c=self.c,w=self.w)**self.power-self.sinkscore*max(d1_sigmoid(self.x,c=self.c,w=self.w)**self.power) \n",
    "\n",
    "        #state needs to begin with a bunch of nothing\n",
    "        self.state = np.array((self.lookback+1)*[0.0, 0.0])\n",
    "        self.state[0] = 0\n",
    "        #self.state[1] = self.value_map[0] #first value\n",
    "        self.state[1] = self.value_map_func(0) #first value\n",
    "\n",
    "        #####################\n",
    "        #fill out first N=lookback spaces by taking single-steps\n",
    "        for _ in range(self.lookback):\n",
    "            self.step(0)\n",
    "\n",
    "    def value_map_func(self,x):\n",
    "        return sigmoid(x,c=self.c, w=self.w)\n",
    "\n",
    "    def score_map_func(self,x):\n",
    "        return d1_sigmoid(x,c=self.c,w=self.w)**self.power-self.sinkscore\n",
    "\n",
    "    def report(self):\n",
    "        print (\"at site \"+str((int(self.state[0]))) +\" with value \"+str(self.state[1]))\n",
    "        print (\"back\\tvalue\")\n",
    "        for i in np.arange(2,2*self.lookback+1,2):\n",
    "            print (str(int(self.state[i]))+'\\t'+str(self.state[i+1]))\n",
    "\n",
    "    def seed(self, seed=None):\n",
    "        self.np_random, seed = seeding.np_random(seed)\n",
    "        return [seed]\n",
    "\n",
    "    def step(self,action):\n",
    "        assert self.action_space.contains(action)\n",
    "        newstate = np.roll(self.state,2)\n",
    "        newstate[2] = 0\n",
    "        newstate[0] = 0\n",
    "        \n",
    "        for i in np.arange(2,int(self.lookback*2+1),2):\n",
    "            newstate[i] = newstate[i]+(action+1)\n",
    "            \n",
    "        newstate[0] = int(self.state[0])+(action+1)\n",
    "        \n",
    "        \n",
    "        if newstate[0] >= self.L:\n",
    "            done = True\n",
    "            newstate[0] = self.L-1\n",
    "        else:\n",
    "            done = False\n",
    "            \n",
    "        newstate[1] = self.value_map_func(newstate[0])\n",
    "        self.state = newstate\n",
    "        \n",
    "        reward = self.score_map_func(self.state[0])\n",
    "        \n",
    "        return self.state, reward, done, {}\n",
    "\n",
    "    def reset(self, cmin= 10, cmax = 490, wmin = 1, wmax = 10, power = .5):\n",
    "        return self.random_reset(cmin=cmin,cmax=cmax,wmin=wmin,wmax=wmax, power=power)\n",
    "\n",
    "    def random_reset(self,cmin = 10, cmax=490, wmin = 1, wmax = 10, power=.5):\n",
    "        self.c = np.random.random()*(cmax-cmin)+cmin\n",
    "        self.w = np.random.random()*(wmax-wmin)+wmin\n",
    "        \n",
    "        self.power = power\n",
    "        \n",
    "        #self.x = np.arange(0,self.L,dtype=int)\n",
    "        #self.score_map =d1_sigmoid(self.x,c=self.c,w=self.w)**self.power-self.sinkscore*max(d1_sigmoid(self.x,c=self.c,w=self.w)**self.power) \n",
    "        #self.value_map = sigmoid(self.x,c=self.c,w=self.w)\n",
    "        \n",
    "        #state needs to begin with a bunch of nothing\n",
    "        self.state = np.array((self.lookback+1)*[0.0, 0.0])\n",
    "        self.state[0] = 0\n",
    "        self.state[1] = self.value_map_func(self.state[0]) #first value\n",
    "        \n",
    "        #fill out first N=lookback spaces by taking single-steps\n",
    "        for _ in range(self.lookback):\n",
    "            self.step(0)\n",
    "        \n",
    "        return self.state"
   ]
  },
  {
   "cell_type": "code",
   "execution_count": 3,
   "metadata": {},
   "outputs": [],
   "source": [
    "env = Change1(c=100, L=300, lookback=int(10),power=.25)"
   ]
  },
  {
   "cell_type": "code",
   "execution_count": 5,
   "metadata": {},
   "outputs": [
    {
     "name": "stdout",
     "output_type": "stream",
     "text": [
      "at site 10 with value 0.00012339457598623172\n",
      "back\tvalue\n",
      "1\t0.00011165334062956276\n",
      "2\t0.00010102919390777289\n",
      "3\t9.141587385216144e-05\n",
      "4\t8.271722285166639e-05\n",
      "5\t7.484622751061123e-05\n",
      "6\t6.772414961977023e-05\n",
      "7\t6.127973961660248e-05\n",
      "8\t5.5448524722794907e-05\n",
      "9\t5.0172164683764205e-05\n",
      "10\t4.5397868702434395e-05\n"
     ]
    }
   ],
   "source": [
    "env.report()"
   ]
  },
  {
   "cell_type": "code",
   "execution_count": 79,
   "metadata": {},
   "outputs": [],
   "source": [
    "def random_flips(num_flips = 3, L = 100,amp_max=1,wmax=8,wmin=2,power = .5,sinkscore = .25):\n",
    "    cen_list = np.random.random(3)*L\n",
    "    amp_list = (np.random.random(3)-.5)*2*amp_max\n",
    "    wid_list = np.random.random(3)*(wmax-wmin)+wmin\n",
    "    \n",
    "    x = np.linspace(0,L,1001)\n",
    "    \n",
    "    my_score = np.zeros(len(x)) - sinkscore\n",
    "    \n",
    "    my_func = np.zeros(len(x)) \n",
    "    \n",
    "    for i in range(num_flips):\n",
    "        my_func += sigmoid(x,cen_list[i],wid_list[i])*amp_list[i]\n",
    "        my_score += d1_sigmoid(x,cen_list[i],w=wid_list[i])**power\n",
    "    \n",
    "    \n",
    "    \n",
    "    \n",
    "    plt.figure()\n",
    "    plt.plot(x,my_func)\n",
    "    plt.plot(x,my_score)\n",
    "    #return my_func"
   ]
  },
  {
   "cell_type": "code",
   "execution_count": 115,
   "metadata": {},
   "outputs": [
    {
     "data": {
      "image/png": "[encoded data removed]",
      "text/plain": [
       "<Figure size 432x288 with 1 Axes>"
      ]
     },
     "metadata": {
      "needs_background": "light"
     },
     "output_type": "display_data"
    }
   ],
   "source": [
    "random_flips(L=1000)"
   ]
  },
  {
   "cell_type": "code",
   "execution_count": 95,
   "metadata": {},
   "outputs": [
    {
     "data": {
      "text/plain": [
       "array([-0.45521735])"
      ]
     },
     "execution_count": 95,
     "metadata": {},
     "output_type": "execute_result"
    }
   ],
   "source": [
    "np.random.random(3)*(1--1)+-1"
   ]
  },
  {
   "cell_type": "code",
   "execution_count": 328,
   "metadata": {},
   "outputs": [],
   "source": [
    "class Change2(gym.Env):\n",
    "    \"\"\"Model Change environment\n",
    "    This game presents moves along a linear chain of states, \n",
    "    where each action is the number of states to take (from 1 to 10),\n",
    "    which moves along the chain.  The state will be returned as both the \n",
    "    current integer-index, and the value of a scaler from 0 to 1.  This\n",
    "    scaler will vary according to a sigmoid function, defined at the time of \n",
    "    enviornment instantiation (define width and center position).\n",
    "    \n",
    "    The reward from each point will be the derivative of this sigmoid function,\n",
    "    offset and rescaled by certain criteria passed to the env at creation.\n",
    "    \n",
    "    The goal is thus to take large jumps along the path when nothing is changing,\n",
    "    and small steps when changing dramatically.  The game completes when a move \n",
    "    takes the state beyond end endpoint.\n",
    "\n",
    "    The observed state is the current state in the chain (0 to n-1) and value of scaler.\n",
    "    \"\"\"    \n",
    "    def __init__(self, L=500, wmin=1, wmax=10, cmin=100, cmax=400, amin=-1,amax=1,\n",
    "                    sinkscore = 0.2, power=.50, lookback=4, num_flips = 3):\n",
    "        \n",
    "        self.num_flips = num_flips\n",
    "        self.L = L\n",
    "\n",
    "        self.clist = np.random.random(self.num_flips)*(cmax-cmin)+cmin\n",
    "        self.wlist = np.random.random(self.num_flips)*(wmax-wmin)+wmin\n",
    "        self.alist = np.random.random(self.num_flips)*(amax-amin)+amin\n",
    "        \n",
    "        self.power = power\n",
    "        self.sinkscore = sinkscore #fraction to drop score floor\n",
    "        self.lookback = lookback #how many previous entries to remember\n",
    "        \n",
    "        self.action_space = spaces.Discrete(10) #assume we can take steps 1 to 10\n",
    "\n",
    "        #setup observation_space\n",
    "        high = np.array((self.lookback+1)*[\n",
    "            int(self.L),\n",
    "            np.finfo(np.float32).max])\n",
    "        low = np.array((self.lookback+1)*[\n",
    "            int(0),\n",
    "            -1.0*np.finfo(np.float32).max])\n",
    "            \n",
    "        self.observation_space = spaces.Box(low, high, dtype=np.float32)\n",
    "        ##############\n",
    "\n",
    "        self.seed()\n",
    "        \n",
    "        \n",
    "        #state needs to begin with a bunch of nothing\n",
    "        self.state = np.array((self.lookback+1)*[0.0, 0.0])\n",
    "        self.state[0] = 0\n",
    "        self.state[1] = self.value_map_func(0) #first value\n",
    "\n",
    "        #####################\n",
    "        #fill out first N=lookback spaces by taking single-steps\n",
    "        for _ in range(self.lookback):\n",
    "            self.step(0)\n",
    "\n",
    "    def value_map_func(self,x):\n",
    "        my_func = 0*x\n",
    "            \n",
    "        for i in range(self.num_flips):\n",
    "            my_func += sigmoid(x,self.clist[i],self.wlist[i])*self.alist[i]\n",
    "        return my_func\n",
    "            \n",
    "    def score_map_func(self,x):\n",
    "        my_score = 0*x - self.sinkscore\n",
    "        for i in range(self.num_flips):\n",
    "            my_score += d1_sigmoid(x,self.clist[i],self.wlist[i])**self.power\n",
    "        return my_score\n",
    "    \n",
    "\n",
    "    def report(self):\n",
    "        print (\"at site \"+str((int(self.state[0]))) +\" with value \"+str(self.state[1]))\n",
    "        print (\"back\\tvalue\")\n",
    "        for i in np.arange(2,2*self.lookback+1,2):\n",
    "            print (str(int(self.state[i]))+'\\t'+str(self.state[i+1]))\n",
    "\n",
    "    def seed(self, seed=None):\n",
    "        self.np_random, seed = seeding.np_random(seed)\n",
    "        return [seed]\n",
    "\n",
    "    def step(self,action):\n",
    "        assert self.action_space.contains(action)\n",
    "        newstate = np.roll(self.state,2)\n",
    "        newstate[2] = 0\n",
    "        newstate[0] = 0\n",
    "        \n",
    "        for i in np.arange(2,int(self.lookback*2+1),2):\n",
    "            newstate[i] = newstate[i]+(action+1)\n",
    "            \n",
    "        newstate[0] = int(self.state[0])+(action+1)\n",
    "        \n",
    "        \n",
    "        if newstate[0] >= self.L:\n",
    "            done = True\n",
    "            newstate[0] = self.L-1\n",
    "        else:\n",
    "            done = False\n",
    "            \n",
    "        newstate[1] = self.value_map_func(newstate[0])\n",
    "        self.state = newstate\n",
    "        \n",
    "        reward = self.score_map_func(self.state[0])\n",
    "        \n",
    "        return self.state, reward, done, {}\n",
    "    \n",
    "    def reset(self, wmin=1, wmax=10, cmin=100, cmax=400, amin=-1,amax=1,\n",
    "                    sinkscore = 0.2, power=.50, num_flips = 3):\n",
    "        \n",
    "        self.num_flips = num_flips\n",
    "\n",
    "        self.clist = np.random.random(self.num_flips)*(cmax-cmin)+cmin\n",
    "        self.wlist = np.random.random(self.num_flips)*(wmax-wmin)+wmin\n",
    "        self.alist = np.random.random(self.num_flips)*(amax-amin)+amin\n",
    "        \n",
    "        self.power = power\n",
    "        self.sinkscore = sinkscore #fraction to drop score floor\n",
    "        \n",
    "        self.power = power\n",
    "        \n",
    "        \n",
    "        #state needs to begin with a bunch of nothing\n",
    "        self.state = np.array((self.lookback+1)*[0.0, 0.0])\n",
    "        self.state[0] = 0\n",
    "        self.state[1] = self.value_map_func(self.state[0]) #first value\n",
    "        \n",
    "        #fill out first N=lookback spaces by taking single-steps\n",
    "        for _ in range(self.lookback):\n",
    "            self.step(0)\n",
    "        \n",
    "        return self.state"
   ]
  },
  {
   "cell_type": "code",
   "execution_count": 329,
   "metadata": {},
   "outputs": [],
   "source": [
    "env = Change2(sinkscore=.02, amin=-1, amax=1, num_flips=1)"
   ]
  },
  {
   "cell_type": "code",
   "execution_count": 348,
   "metadata": {},
   "outputs": [
    {
     "data": {
      "text/plain": [
       "array([4., 0., 1., 0., 2., 0., 3., 0., 4., 0.])"
      ]
     },
     "execution_count": 348,
     "metadata": {},
     "output_type": "execute_result"
    }
   ],
   "source": [
    "env.reset(num_flips=0)"
   ]
  },
  {
   "cell_type": "code",
   "execution_count": 349,
   "metadata": {},
   "outputs": [
    {
     "data": {
      "text/plain": [
       "[<matplotlib.lines.Line2D at 0x1cc20f1f6a0>]"
      ]
     },
     "execution_count": 349,
     "metadata": {},
     "output_type": "execute_result"
    },
    {
     "data": {
      "image/png": "[encoded data removed]",
      "text/plain": [
       "<Figure size 432x288 with 1 Axes>"
      ]
     },
     "metadata": {
      "needs_background": "light"
     },
     "output_type": "display_data"
    }
   ],
   "source": [
    "plt.figure()\n",
    "x = np.linspace(0,500,1001)\n",
    "plt.plot(x,env.score_map_func(x))\n",
    "plt.plot(x,env.value_map_func(x))"
   ]
  },
  {
   "cell_type": "code",
   "execution_count": 273,
   "metadata": {},
   "outputs": [
    {
     "data": {
      "text/plain": [
       "array([0.        , 0.10204082, 0.20408163, 0.30612245, 0.40816327,\n",
       "       0.51020408, 0.6122449 , 0.71428571, 0.81632653, 0.91836735,\n",
       "       1.02040816, 1.12244898, 1.2244898 , 1.32653061, 1.42857143,\n",
       "       1.53061224, 1.63265306, 1.73469388, 1.83673469, 1.93877551,\n",
       "       2.04081633, 2.14285714, 2.24489796, 2.34693878, 2.44897959,\n",
       "       2.55102041, 2.65306122, 2.75510204, 2.85714286, 2.95918367,\n",
       "       3.06122449, 3.16326531, 3.26530612, 3.36734694, 3.46938776,\n",
       "       3.57142857, 3.67346939, 3.7755102 , 3.87755102, 3.97959184,\n",
       "       4.08163265, 4.18367347, 4.28571429, 4.3877551 , 4.48979592,\n",
       "       4.59183673, 4.69387755, 4.79591837, 4.89795918, 5.        ])"
      ]
     },
     "execution_count": 273,
     "metadata": {},
     "output_type": "execute_result"
    }
   ],
   "source": [
    "x"
   ]
  },
  {
   "cell_type": "code",
   "execution_count": 350,
   "metadata": {},
   "outputs": [
    {
     "name": "stdout",
     "output_type": "stream",
     "text": [
      "at site 4 with value 0.0\n",
      "back\tvalue\n",
      "1\t0.0\n",
      "2\t0.0\n",
      "3\t0.0\n",
      "4\t0.0\n"
     ]
    }
   ],
   "source": [
    "env.report()"
   ]
  },
  {
   "cell_type": "code",
   "execution_count": null,
   "metadata": {},
   "outputs": [],
   "source": []
  }
 ],
 "metadata": {
  "kernelspec": {
   "display_name": "Python 3",
   "language": "python",
   "name": "python3"
  },
  "language_info": {
   "codemirror_mode": {
    "name": "ipython",
    "version": 3
   },
   "file_extension": ".py",
   "mimetype": "text/x-python",
   "name": "python",
   "nbconvert_exporter": "python",
   "pygments_lexer": "ipython3",
   "version": "3.7.3"
  }
 },
 "nbformat": 4,
 "nbformat_minor": 2
}
